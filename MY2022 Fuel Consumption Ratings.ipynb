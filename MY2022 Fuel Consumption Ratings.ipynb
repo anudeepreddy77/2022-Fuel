{
 "cells": [
  {
   "cell_type": "code",
   "execution_count": 1,
   "id": "6ab9e109",
   "metadata": {},
   "outputs": [],
   "source": [
    "import pandas as pd\n",
    "import numpy as np\n",
    "import matplotlib.pyplot as plt\n",
    "%matplotlib inline\n",
    "\n",
    "import seaborn as sns\n",
    "import plotly.express as px"
   ]
  },
  {
   "cell_type": "code",
   "execution_count": 2,
   "id": "1bfc427e",
   "metadata": {},
   "outputs": [],
   "source": [
    "import warnings\n",
    "warnings.filterwarnings('ignore')"
   ]
  },
  {
   "cell_type": "code",
   "execution_count": 3,
   "id": "3ecdd685",
   "metadata": {},
   "outputs": [],
   "source": [
    "df = pd.read_csv(r\"E:/Data Science/1/MY2022 Fuel Consumption Ratings.csv\")"
   ]
  },
  {
   "cell_type": "code",
   "execution_count": 4,
   "id": "a2c32881",
   "metadata": {},
   "outputs": [
    {
     "data": {
      "text/html": [
       "<div>\n",
       "<style scoped>\n",
       "    .dataframe tbody tr th:only-of-type {\n",
       "        vertical-align: middle;\n",
       "    }\n",
       "\n",
       "    .dataframe tbody tr th {\n",
       "        vertical-align: top;\n",
       "    }\n",
       "\n",
       "    .dataframe thead th {\n",
       "        text-align: right;\n",
       "    }\n",
       "</style>\n",
       "<table border=\"1\" class=\"dataframe\">\n",
       "  <thead>\n",
       "    <tr style=\"text-align: right;\">\n",
       "      <th></th>\n",
       "      <th>Model Year</th>\n",
       "      <th>Make</th>\n",
       "      <th>Model</th>\n",
       "      <th>Vehicle Class</th>\n",
       "      <th>Engine Size(L)</th>\n",
       "      <th>Cylinders</th>\n",
       "      <th>Transmission</th>\n",
       "      <th>Fuel Type</th>\n",
       "      <th>Fuel Consumption (City (L/100 km)</th>\n",
       "      <th>Fuel Consumption(Hwy (L/100 km))</th>\n",
       "      <th>Fuel Consumption(Comb (L/100 km))</th>\n",
       "      <th>Fuel Consumption(Comb (mpg))</th>\n",
       "      <th>CO2 Emissions(g/km)</th>\n",
       "      <th>CO2 Rating</th>\n",
       "      <th>Smog Rating</th>\n",
       "    </tr>\n",
       "  </thead>\n",
       "  <tbody>\n",
       "    <tr>\n",
       "      <th>6</th>\n",
       "      <td>2022</td>\n",
       "      <td>Acura</td>\n",
       "      <td>TLX Type S</td>\n",
       "      <td>Compact</td>\n",
       "      <td>3.0</td>\n",
       "      <td>6</td>\n",
       "      <td>AS10</td>\n",
       "      <td>Z</td>\n",
       "      <td>12.3</td>\n",
       "      <td>9.4</td>\n",
       "      <td>11.0</td>\n",
       "      <td>26</td>\n",
       "      <td>256</td>\n",
       "      <td>5</td>\n",
       "      <td>5</td>\n",
       "    </tr>\n",
       "    <tr>\n",
       "      <th>139</th>\n",
       "      <td>2022</td>\n",
       "      <td>Buick</td>\n",
       "      <td>Encore GX</td>\n",
       "      <td>SUV: Small</td>\n",
       "      <td>1.2</td>\n",
       "      <td>3</td>\n",
       "      <td>AV</td>\n",
       "      <td>X</td>\n",
       "      <td>8.0</td>\n",
       "      <td>7.6</td>\n",
       "      <td>7.8</td>\n",
       "      <td>36</td>\n",
       "      <td>184</td>\n",
       "      <td>6</td>\n",
       "      <td>7</td>\n",
       "    </tr>\n",
       "    <tr>\n",
       "      <th>512</th>\n",
       "      <td>2022</td>\n",
       "      <td>Jeep</td>\n",
       "      <td>Grand Cherokee L 4X4</td>\n",
       "      <td>SUV: Standard</td>\n",
       "      <td>3.6</td>\n",
       "      <td>6</td>\n",
       "      <td>A8</td>\n",
       "      <td>X</td>\n",
       "      <td>13.0</td>\n",
       "      <td>9.4</td>\n",
       "      <td>11.3</td>\n",
       "      <td>25</td>\n",
       "      <td>266</td>\n",
       "      <td>4</td>\n",
       "      <td>7</td>\n",
       "    </tr>\n",
       "    <tr>\n",
       "      <th>579</th>\n",
       "      <td>2022</td>\n",
       "      <td>Land Rover</td>\n",
       "      <td>Range Rover Sport HST P400</td>\n",
       "      <td>SUV: Standard</td>\n",
       "      <td>3.0</td>\n",
       "      <td>6</td>\n",
       "      <td>AS8</td>\n",
       "      <td>Z</td>\n",
       "      <td>12.7</td>\n",
       "      <td>9.9</td>\n",
       "      <td>11.4</td>\n",
       "      <td>25</td>\n",
       "      <td>269</td>\n",
       "      <td>4</td>\n",
       "      <td>7</td>\n",
       "    </tr>\n",
       "    <tr>\n",
       "      <th>937</th>\n",
       "      <td>2022</td>\n",
       "      <td>Volvo</td>\n",
       "      <td>V60 T6 AWD</td>\n",
       "      <td>Station wagon: Small</td>\n",
       "      <td>2.0</td>\n",
       "      <td>4</td>\n",
       "      <td>AS8</td>\n",
       "      <td>Z</td>\n",
       "      <td>11.3</td>\n",
       "      <td>7.5</td>\n",
       "      <td>9.6</td>\n",
       "      <td>29</td>\n",
       "      <td>224</td>\n",
       "      <td>5</td>\n",
       "      <td>7</td>\n",
       "    </tr>\n",
       "  </tbody>\n",
       "</table>\n",
       "</div>"
      ],
      "text/plain": [
       "     Model Year        Make                       Model         Vehicle Class  \\\n",
       "6          2022       Acura                  TLX Type S               Compact   \n",
       "139        2022       Buick                   Encore GX            SUV: Small   \n",
       "512        2022        Jeep        Grand Cherokee L 4X4         SUV: Standard   \n",
       "579        2022  Land Rover  Range Rover Sport HST P400         SUV: Standard   \n",
       "937        2022       Volvo                  V60 T6 AWD  Station wagon: Small   \n",
       "\n",
       "     Engine Size(L)  Cylinders Transmission Fuel Type  \\\n",
       "6               3.0          6         AS10         Z   \n",
       "139             1.2          3           AV         X   \n",
       "512             3.6          6           A8         X   \n",
       "579             3.0          6          AS8         Z   \n",
       "937             2.0          4          AS8         Z   \n",
       "\n",
       "     Fuel Consumption (City (L/100 km)  Fuel Consumption(Hwy (L/100 km))  \\\n",
       "6                                 12.3                               9.4   \n",
       "139                                8.0                               7.6   \n",
       "512                               13.0                               9.4   \n",
       "579                               12.7                               9.9   \n",
       "937                               11.3                               7.5   \n",
       "\n",
       "     Fuel Consumption(Comb (L/100 km))  Fuel Consumption(Comb (mpg))  \\\n",
       "6                                 11.0                            26   \n",
       "139                                7.8                            36   \n",
       "512                               11.3                            25   \n",
       "579                               11.4                            25   \n",
       "937                                9.6                            29   \n",
       "\n",
       "     CO2 Emissions(g/km)  CO2 Rating  Smog Rating  \n",
       "6                    256           5            5  \n",
       "139                  184           6            7  \n",
       "512                  266           4            7  \n",
       "579                  269           4            7  \n",
       "937                  224           5            7  "
      ]
     },
     "execution_count": 4,
     "metadata": {},
     "output_type": "execute_result"
    }
   ],
   "source": [
    "df.sample(5)"
   ]
  },
  {
   "cell_type": "code",
   "execution_count": 5,
   "id": "de1aaff3",
   "metadata": {},
   "outputs": [
    {
     "data": {
      "text/plain": [
       "0"
      ]
     },
     "execution_count": 5,
     "metadata": {},
     "output_type": "execute_result"
    }
   ],
   "source": [
    "df.duplicated().sum()"
   ]
  },
  {
   "cell_type": "code",
   "execution_count": 6,
   "id": "b2f9bbac",
   "metadata": {},
   "outputs": [
    {
     "data": {
      "text/plain": [
       "Model Year                           0\n",
       "Make                                 0\n",
       "Model                                0\n",
       "Vehicle Class                        0\n",
       "Engine Size(L)                       0\n",
       "Cylinders                            0\n",
       "Transmission                         0\n",
       "Fuel Type                            0\n",
       "Fuel Consumption (City (L/100 km)    0\n",
       "Fuel Consumption(Hwy (L/100 km))     0\n",
       "Fuel Consumption(Comb (L/100 km))    0\n",
       "Fuel Consumption(Comb (mpg))         0\n",
       "CO2 Emissions(g/km)                  0\n",
       "CO2 Rating                           0\n",
       "Smog Rating                          0\n",
       "dtype: int64"
      ]
     },
     "execution_count": 6,
     "metadata": {},
     "output_type": "execute_result"
    }
   ],
   "source": [
    "df.isna().sum()"
   ]
  },
  {
   "cell_type": "code",
   "execution_count": 7,
   "id": "23cfeb1c",
   "metadata": {},
   "outputs": [
    {
     "name": "stdout",
     "output_type": "stream",
     "text": [
      "<class 'pandas.core.frame.DataFrame'>\n",
      "RangeIndex: 946 entries, 0 to 945\n",
      "Data columns (total 15 columns):\n",
      " #   Column                             Non-Null Count  Dtype  \n",
      "---  ------                             --------------  -----  \n",
      " 0   Model Year                         946 non-null    int64  \n",
      " 1   Make                               946 non-null    object \n",
      " 2   Model                              946 non-null    object \n",
      " 3   Vehicle Class                      946 non-null    object \n",
      " 4   Engine Size(L)                     946 non-null    float64\n",
      " 5   Cylinders                          946 non-null    int64  \n",
      " 6   Transmission                       946 non-null    object \n",
      " 7   Fuel Type                          946 non-null    object \n",
      " 8   Fuel Consumption (City (L/100 km)  946 non-null    float64\n",
      " 9   Fuel Consumption(Hwy (L/100 km))   946 non-null    float64\n",
      " 10  Fuel Consumption(Comb (L/100 km))  946 non-null    float64\n",
      " 11  Fuel Consumption(Comb (mpg))       946 non-null    int64  \n",
      " 12  CO2 Emissions(g/km)                946 non-null    int64  \n",
      " 13  CO2 Rating                         946 non-null    int64  \n",
      " 14  Smog Rating                        946 non-null    int64  \n",
      "dtypes: float64(4), int64(6), object(5)\n",
      "memory usage: 111.0+ KB\n"
     ]
    }
   ],
   "source": [
    "df.info()"
   ]
  },
  {
   "cell_type": "code",
   "execution_count": 8,
   "id": "124d52b3",
   "metadata": {},
   "outputs": [
    {
     "data": {
      "text/plain": [
       "Index(['Model Year', 'Make', 'Model', 'Vehicle Class', 'Engine Size(L)',\n",
       "       'Cylinders', 'Transmission', 'Fuel Type',\n",
       "       'Fuel Consumption (City (L/100 km)', 'Fuel Consumption(Hwy (L/100 km))',\n",
       "       'Fuel Consumption(Comb (L/100 km))', 'Fuel Consumption(Comb (mpg))',\n",
       "       'CO2 Emissions(g/km)', 'CO2 Rating', 'Smog Rating'],\n",
       "      dtype='object')"
      ]
     },
     "execution_count": 8,
     "metadata": {},
     "output_type": "execute_result"
    }
   ],
   "source": [
    "df.columns"
   ]
  },
  {
   "cell_type": "code",
   "execution_count": 9,
   "id": "749db9b4",
   "metadata": {},
   "outputs": [],
   "source": [
    "df.rename(columns={'Model Year':'Model_Year', 'Vehicle Class':'Vechile_Class', 'Engine Size(L)':'Engine_Size','Fuel Type':'Fuel_Type',\n",
    "                   'CO2 Emissions(g/km)':'CO2','CO2 Rating':'CO2_Rating', 'Smog Rating':'Smog_Rating'},inplace=True)"
   ]
  },
  {
   "cell_type": "code",
   "execution_count": 10,
   "id": "9e657cfb",
   "metadata": {},
   "outputs": [
    {
     "data": {
      "text/plain": [
       "Index(['Model_Year', 'Make', 'Model', 'Vechile_Class', 'Engine_Size',\n",
       "       'Cylinders', 'Transmission', 'Fuel_Type',\n",
       "       'Fuel Consumption (City (L/100 km)', 'Fuel Consumption(Hwy (L/100 km))',\n",
       "       'Fuel Consumption(Comb (L/100 km))', 'Fuel Consumption(Comb (mpg))',\n",
       "       'CO2', 'CO2_Rating', 'Smog_Rating'],\n",
       "      dtype='object')"
      ]
     },
     "execution_count": 10,
     "metadata": {},
     "output_type": "execute_result"
    }
   ],
   "source": [
    "df.columns"
   ]
  },
  {
   "cell_type": "code",
   "execution_count": 11,
   "id": "4f128641",
   "metadata": {},
   "outputs": [],
   "source": [
    "df.drop(columns=['Fuel Consumption (City (L/100 km)','Fuel Consumption(Hwy (L/100 km))','Fuel Consumption(Comb (mpg))'],inplace=True)"
   ]
  },
  {
   "cell_type": "code",
   "execution_count": 12,
   "id": "61f312fd",
   "metadata": {},
   "outputs": [],
   "source": [
    "df.rename(columns={'Fuel Consumption(Comb (L/100 km))':\"Consumption\"},inplace=True)"
   ]
  },
  {
   "cell_type": "code",
   "execution_count": 13,
   "id": "cd37f85e",
   "metadata": {},
   "outputs": [
    {
     "data": {
      "text/html": [
       "<div>\n",
       "<style scoped>\n",
       "    .dataframe tbody tr th:only-of-type {\n",
       "        vertical-align: middle;\n",
       "    }\n",
       "\n",
       "    .dataframe tbody tr th {\n",
       "        vertical-align: top;\n",
       "    }\n",
       "\n",
       "    .dataframe thead th {\n",
       "        text-align: right;\n",
       "    }\n",
       "</style>\n",
       "<table border=\"1\" class=\"dataframe\">\n",
       "  <thead>\n",
       "    <tr style=\"text-align: right;\">\n",
       "      <th></th>\n",
       "      <th>Model_Year</th>\n",
       "      <th>Make</th>\n",
       "      <th>Model</th>\n",
       "      <th>Vechile_Class</th>\n",
       "      <th>Engine_Size</th>\n",
       "      <th>Cylinders</th>\n",
       "      <th>Transmission</th>\n",
       "      <th>Fuel_Type</th>\n",
       "      <th>Consumption</th>\n",
       "      <th>CO2</th>\n",
       "      <th>CO2_Rating</th>\n",
       "      <th>Smog_Rating</th>\n",
       "    </tr>\n",
       "  </thead>\n",
       "  <tbody>\n",
       "    <tr>\n",
       "      <th>0</th>\n",
       "      <td>2022</td>\n",
       "      <td>Acura</td>\n",
       "      <td>ILX</td>\n",
       "      <td>Compact</td>\n",
       "      <td>2.4</td>\n",
       "      <td>4</td>\n",
       "      <td>AM8</td>\n",
       "      <td>Z</td>\n",
       "      <td>8.6</td>\n",
       "      <td>200</td>\n",
       "      <td>6</td>\n",
       "      <td>3</td>\n",
       "    </tr>\n",
       "    <tr>\n",
       "      <th>1</th>\n",
       "      <td>2022</td>\n",
       "      <td>Acura</td>\n",
       "      <td>MDX SH-AWD</td>\n",
       "      <td>SUV: Small</td>\n",
       "      <td>3.5</td>\n",
       "      <td>6</td>\n",
       "      <td>AS10</td>\n",
       "      <td>Z</td>\n",
       "      <td>11.2</td>\n",
       "      <td>263</td>\n",
       "      <td>4</td>\n",
       "      <td>5</td>\n",
       "    </tr>\n",
       "  </tbody>\n",
       "</table>\n",
       "</div>"
      ],
      "text/plain": [
       "   Model_Year   Make       Model Vechile_Class  Engine_Size  Cylinders  \\\n",
       "0        2022  Acura         ILX       Compact          2.4          4   \n",
       "1        2022  Acura  MDX SH-AWD    SUV: Small          3.5          6   \n",
       "\n",
       "  Transmission Fuel_Type  Consumption  CO2  CO2_Rating  Smog_Rating  \n",
       "0          AM8         Z          8.6  200           6            3  \n",
       "1         AS10         Z         11.2  263           4            5  "
      ]
     },
     "execution_count": 13,
     "metadata": {},
     "output_type": "execute_result"
    }
   ],
   "source": [
    "df.head(2)"
   ]
  },
  {
   "cell_type": "code",
   "execution_count": 14,
   "id": "173f430d",
   "metadata": {},
   "outputs": [
    {
     "data": {
      "text/plain": [
       "Index(['Model_Year', 'Make', 'Model', 'Vechile_Class', 'Engine_Size',\n",
       "       'Cylinders', 'Transmission', 'Fuel_Type', 'Consumption', 'CO2',\n",
       "       'CO2_Rating', 'Smog_Rating'],\n",
       "      dtype='object')"
      ]
     },
     "execution_count": 14,
     "metadata": {},
     "output_type": "execute_result"
    }
   ],
   "source": [
    "df.columns"
   ]
  },
  {
   "cell_type": "code",
   "execution_count": 15,
   "id": "50b32530",
   "metadata": {},
   "outputs": [
    {
     "data": {
      "image/png": "[encoded data removed]",
      "text/plain": [
       "<Figure size 432x288 with 1 Axes>"
      ]
     },
     "metadata": {
      "needs_background": "light"
     },
     "output_type": "display_data"
    },
    {
     "data": {
      "image/png": "[encoded data removed]",
      "text/plain": [
       "<Figure size 432x288 with 1 Axes>"
      ]
     },
     "metadata": {
      "needs_background": "light"
     },
     "output_type": "display_data"
    },
    {
     "data": {
      "image/png": "[encoded data removed]",
      "text/plain": [
       "<Figure size 432x288 with 1 Axes>"
      ]
     },
     "metadata": {
      "needs_background": "light"
     },
     "output_type": "display_data"
    },
    {
     "data": {
      "image/png": "[encoded data removed]",
      "text/plain": [
       "<Figure size 432x288 with 1 Axes>"
      ]
     },
     "metadata": {
      "needs_background": "light"
     },
     "output_type": "display_data"
    },
    {
     "data": {
      "image/png": "[encoded data removed]",
      "text/plain": [
       "<Figure size 432x288 with 1 Axes>"
      ]
     },
     "metadata": {
      "needs_background": "light"
     },
     "output_type": "display_data"
    },
    {
     "data": {
      "image/png": "[encoded data removed]",
      "text/plain": [
       "<Figure size 432x288 with 1 Axes>"
      ]
     },
     "metadata": {
      "needs_background": "light"
     },
     "output_type": "display_data"
    },
    {
     "data": {
      "image/png": "[encoded data removed]",
      "text/plain": [
       "<Figure size 432x288 with 1 Axes>"
      ]
     },
     "metadata": {
      "needs_background": "light"
     },
     "output_type": "display_data"
    }
   ],
   "source": [
    "l = []\n",
    "for i in df.columns:\n",
    "    try:\n",
    "        sns.boxplot(df[i])\n",
    "        plt.show()\n",
    "    except:\n",
    "        l.append(i)\n",
    "        pass"
   ]
  },
  {
   "cell_type": "code",
   "execution_count": 16,
   "id": "952bcf44",
   "metadata": {},
   "outputs": [
    {
     "data": {
      "image/png": "[encoded data removed]",
      "text/plain": [
       "<Figure size 432x288 with 2 Axes>"
      ]
     },
     "metadata": {
      "needs_background": "light"
     },
     "output_type": "display_data"
    }
   ],
   "source": [
    "sns.heatmap(df.corr(),annot=True)\n",
    "plt.show()"
   ]
  },
  {
   "cell_type": "code",
   "execution_count": 17,
   "id": "326882e6",
   "metadata": {},
   "outputs": [],
   "source": [
    "df.drop(columns=[\"Model_Year\",\"Smog_Rating\"],inplace=True)"
   ]
  },
  {
   "cell_type": "code",
   "execution_count": 18,
   "id": "988a51f3",
   "metadata": {},
   "outputs": [
    {
     "data": {
      "text/plain": [
       "Make              object\n",
       "Model             object\n",
       "Vechile_Class     object\n",
       "Engine_Size      float64\n",
       "Cylinders          int64\n",
       "Transmission      object\n",
       "Fuel_Type         object\n",
       "Consumption      float64\n",
       "CO2                int64\n",
       "CO2_Rating         int64\n",
       "dtype: object"
      ]
     },
     "execution_count": 18,
     "metadata": {},
     "output_type": "execute_result"
    }
   ],
   "source": [
    "df.dtypes"
   ]
  },
  {
   "cell_type": "code",
   "execution_count": 19,
   "id": "f0c81d7b",
   "metadata": {},
   "outputs": [
    {
     "name": "stdout",
     "output_type": "stream",
     "text": [
      "No.of Unique Values in Make --- 39\n",
      "No.of Unique Values in Model --- 715\n",
      "No.of Unique Values in Vechile_Class --- 14\n",
      "No.of Unique Values in Transmission --- 23\n",
      "No.of Unique Values in Fuel_Type --- 4\n"
     ]
    }
   ],
   "source": [
    "for i in l:\n",
    "    x = df[i].nunique()\n",
    "    print(\"No.of Unique Values in {} --- {}\".format(i,x))"
   ]
  },
  {
   "cell_type": "code",
   "execution_count": 20,
   "id": "612b3206",
   "metadata": {},
   "outputs": [],
   "source": [
    "from sklearn.preprocessing import LabelEncoder"
   ]
  },
  {
   "cell_type": "code",
   "execution_count": 21,
   "id": "62f67345",
   "metadata": {},
   "outputs": [],
   "source": [
    "le = LabelEncoder()"
   ]
  },
  {
   "cell_type": "code",
   "execution_count": 22,
   "id": "58c2a92a",
   "metadata": {},
   "outputs": [],
   "source": [
    "for i in l:\n",
    "    df[i]=le.fit_transform(df[[i]])"
   ]
  },
  {
   "cell_type": "code",
   "execution_count": 23,
   "id": "5ce054b9",
   "metadata": {},
   "outputs": [
    {
     "data": {
      "image/png": "[encoded data removed]",
      "text/plain": [
       "<Figure size 432x288 with 2 Axes>"
      ]
     },
     "metadata": {
      "needs_background": "light"
     },
     "output_type": "display_data"
    }
   ],
   "source": [
    "sns.heatmap(df.corr(),annot=True)\n",
    "plt.show()"
   ]
  },
  {
   "cell_type": "code",
   "execution_count": 24,
   "id": "4bb89fdc",
   "metadata": {},
   "outputs": [
    {
     "data": {
      "text/plain": [
       "Index(['Make', 'Model', 'Vechile_Class', 'Engine_Size', 'Cylinders',\n",
       "       'Transmission', 'Fuel_Type', 'Consumption', 'CO2', 'CO2_Rating'],\n",
       "      dtype='object')"
      ]
     },
     "execution_count": 24,
     "metadata": {},
     "output_type": "execute_result"
    }
   ],
   "source": [
    "df.columns"
   ]
  },
  {
   "cell_type": "code",
   "execution_count": 25,
   "id": "c8c63ef8",
   "metadata": {},
   "outputs": [],
   "source": [
    "x = df.drop('Consumption',axis=1)"
   ]
  },
  {
   "cell_type": "code",
   "execution_count": 26,
   "id": "2d10eede",
   "metadata": {},
   "outputs": [],
   "source": [
    "y = df[\"Consumption\"]"
   ]
  },
  {
   "cell_type": "code",
   "execution_count": 27,
   "id": "0d605b6d",
   "metadata": {},
   "outputs": [],
   "source": [
    "from sklearn.model_selection import train_test_split"
   ]
  },
  {
   "cell_type": "code",
   "execution_count": 28,
   "id": "02aca492",
   "metadata": {},
   "outputs": [],
   "source": [
    "x_train,x_test,y_train,y_test = train_test_split(x,y, test_size=0.3, random_state=1)"
   ]
  },
  {
   "cell_type": "code",
   "execution_count": 29,
   "id": "89dd00a3",
   "metadata": {},
   "outputs": [],
   "source": [
    "from sklearn.ensemble import RandomForestRegressor"
   ]
  },
  {
   "cell_type": "code",
   "execution_count": 30,
   "id": "1a452531",
   "metadata": {},
   "outputs": [],
   "source": [
    "model = RandomForestRegressor()"
   ]
  },
  {
   "cell_type": "code",
   "execution_count": 31,
   "id": "449d3204",
   "metadata": {},
   "outputs": [
    {
     "data": {
      "text/html": [
       "<style>#sk-container-id-1 {color: black;background-color: white;}#sk-container-id-1 pre{padding: 0;}#sk-container-id-1 div.sk-toggleable {background-color: white;}#sk-container-id-1 label.sk-toggleable__label {cursor: pointer;display: block;width: 100%;margin-bottom: 0;padding: 0.3em;box-sizing: border-box;text-align: center;}#sk-container-id-1 label.sk-toggleable__label-arrow:before {content: \"▸\";float: left;margin-right: 0.25em;color: #696969;}#sk-container-id-1 label.sk-toggleable__label-arrow:hover:before {color: black;}#sk-container-id-1 div.sk-estimator:hover label.sk-toggleable__label-arrow:before {color: black;}#sk-container-id-1 div.sk-toggleable__content {max-height: 0;max-width: 0;overflow: hidden;text-align: left;background-color: #f0f8ff;}#sk-container-id-1 div.sk-toggleable__content pre {margin: 0.2em;color: black;border-radius: 0.25em;background-color: #f0f8ff;}#sk-container-id-1 input.sk-toggleable__control:checked~div.sk-toggleable__content {max-height: 200px;max-width: 100%;overflow: auto;}#sk-container-id-1 input.sk-toggleable__control:checked~label.sk-toggleable__label-arrow:before {content: \"▾\";}#sk-container-id-1 div.sk-estimator input.sk-toggleable__control:checked~label.sk-toggleable__label {background-color: #d4ebff;}#sk-container-id-1 div.sk-label input.sk-toggleable__control:checked~label.sk-toggleable__label {background-color: #d4ebff;}#sk-container-id-1 input.sk-hidden--visually {border: 0;clip: rect(1px 1px 1px 1px);clip: rect(1px, 1px, 1px, 1px);height: 1px;margin: -1px;overflow: hidden;padding: 0;position: absolute;width: 1px;}#sk-container-id-1 div.sk-estimator {font-family: monospace;background-color: #f0f8ff;border: 1px dotted black;border-radius: 0.25em;box-sizing: border-box;margin-bottom: 0.5em;}#sk-container-id-1 div.sk-estimator:hover {background-color: #d4ebff;}#sk-container-id-1 div.sk-parallel-item::after {content: \"\";width: 100%;border-bottom: 1px solid gray;flex-grow: 1;}#sk-container-id-1 div.sk-label:hover label.sk-toggleable__label {background-color: #d4ebff;}#sk-container-id-1 div.sk-serial::before {content: \"\";position: absolute;border-left: 1px solid gray;box-sizing: border-box;top: 0;bottom: 0;left: 50%;z-index: 0;}#sk-container-id-1 div.sk-serial {display: flex;flex-direction: column;align-items: center;background-color: white;padding-right: 0.2em;padding-left: 0.2em;position: relative;}#sk-container-id-1 div.sk-item {position: relative;z-index: 1;}#sk-container-id-1 div.sk-parallel {display: flex;align-items: stretch;justify-content: center;background-color: white;position: relative;}#sk-container-id-1 div.sk-item::before, #sk-container-id-1 div.sk-parallel-item::before {content: \"\";position: absolute;border-left: 1px solid gray;box-sizing: border-box;top: 0;bottom: 0;left: 50%;z-index: -1;}#sk-container-id-1 div.sk-parallel-item {display: flex;flex-direction: column;z-index: 1;position: relative;background-color: white;}#sk-container-id-1 div.sk-parallel-item:first-child::after {align-self: flex-end;width: 50%;}#sk-container-id-1 div.sk-parallel-item:last-child::after {align-self: flex-start;width: 50%;}#sk-container-id-1 div.sk-parallel-item:only-child::after {width: 0;}#sk-container-id-1 div.sk-dashed-wrapped {border: 1px dashed gray;margin: 0 0.4em 0.5em 0.4em;box-sizing: border-box;padding-bottom: 0.4em;background-color: white;}#sk-container-id-1 div.sk-label label {font-family: monospace;font-weight: bold;display: inline-block;line-height: 1.2em;}#sk-container-id-1 div.sk-label-container {text-align: center;}#sk-container-id-1 div.sk-container {/* jupyter's `normalize.less` sets `[hidden] { display: none; }` but bootstrap.min.css set `[hidden] { display: none !important; }` so we also need the `!important` here to be able to override the default hidden behavior on the sphinx rendered scikit-learn.org. See: https://github.com/scikit-learn/scikit-learn/issues/21755 */display: inline-block !important;position: relative;}#sk-container-id-1 div.sk-text-repr-fallback {display: none;}</style><div id=\"sk-container-id-1\" class=\"sk-top-container\"><div class=\"sk-text-repr-fallback\"><pre>RandomForestRegressor()</pre><b>In a Jupyter environment, please rerun this cell to show the HTML representation or trust the notebook. <br />On GitHub, the HTML representation is unable to render, please try loading this page with nbviewer.org.</b></div><div class=\"sk-container\" hidden><div class=\"sk-item\"><div class=\"sk-estimator sk-toggleable\"><input class=\"sk-toggleable__control sk-hidden--visually\" id=\"sk-estimator-id-1\" type=\"checkbox\" checked><label for=\"sk-estimator-id-1\" class=\"sk-toggleable__label sk-toggleable__label-arrow\">RandomForestRegressor</label><div class=\"sk-toggleable__content\"><pre>RandomForestRegressor()</pre></div></div></div></div></div>"
      ],
      "text/plain": [
       "RandomForestRegressor()"
      ]
     },
     "execution_count": 31,
     "metadata": {},
     "output_type": "execute_result"
    }
   ],
   "source": [
    "model.fit(x_train,y_train)\n"
   ]
  },
  {
   "cell_type": "code",
   "execution_count": 32,
   "id": "18725709",
   "metadata": {},
   "outputs": [
    {
     "data": {
      "text/plain": [
       "0.9955644309217007"
      ]
     },
     "execution_count": 32,
     "metadata": {},
     "output_type": "execute_result"
    }
   ],
   "source": [
    "model.score(x_train,y_train)"
   ]
  },
  {
   "cell_type": "code",
   "execution_count": 33,
   "id": "b8dfdeb3",
   "metadata": {},
   "outputs": [],
   "source": [
    "from sklearn.model_selection import GridSearchCV"
   ]
  },
  {
   "cell_type": "code",
   "execution_count": 34,
   "id": "035bcc1f",
   "metadata": {},
   "outputs": [],
   "source": [
    "model = RandomForestRegressor()"
   ]
  },
  {
   "cell_type": "code",
   "execution_count": 35,
   "id": "50beb237",
   "metadata": {},
   "outputs": [],
   "source": [
    "param_grid={\n",
    "        \"n_estimators\":[100,500],\n",
    "        \"max_features\":['auto','sqrt','log2'],\n",
    "        \"max_depth\":[4,5,6,7,8],\n",
    "         \"criterion\":['squared_error']   \n",
    "}"
   ]
  },
  {
   "cell_type": "code",
   "execution_count": 36,
   "id": "cf07609d",
   "metadata": {},
   "outputs": [],
   "source": [
    "c_ran = GridSearchCV(estimator=model,\n",
    "    param_grid=param_grid,cv=5)"
   ]
  },
  {
   "cell_type": "code",
   "execution_count": 37,
   "id": "2880448b",
   "metadata": {},
   "outputs": [
    {
     "data": {
      "text/html": [
       "<style>#sk-container-id-2 {color: black;background-color: white;}#sk-container-id-2 pre{padding: 0;}#sk-container-id-2 div.sk-toggleable {background-color: white;}#sk-container-id-2 label.sk-toggleable__label {cursor: pointer;display: block;width: 100%;margin-bottom: 0;padding: 0.3em;box-sizing: border-box;text-align: center;}#sk-container-id-2 label.sk-toggleable__label-arrow:before {content: \"▸\";float: left;margin-right: 0.25em;color: #696969;}#sk-container-id-2 label.sk-toggleable__label-arrow:hover:before {color: black;}#sk-container-id-2 div.sk-estimator:hover label.sk-toggleable__label-arrow:before {color: black;}#sk-container-id-2 div.sk-toggleable__content {max-height: 0;max-width: 0;overflow: hidden;text-align: left;background-color: #f0f8ff;}#sk-container-id-2 div.sk-toggleable__content pre {margin: 0.2em;color: black;border-radius: 0.25em;background-color: #f0f8ff;}#sk-container-id-2 input.sk-toggleable__control:checked~div.sk-toggleable__content {max-height: 200px;max-width: 100%;overflow: auto;}#sk-container-id-2 input.sk-toggleable__control:checked~label.sk-toggleable__label-arrow:before {content: \"▾\";}#sk-container-id-2 div.sk-estimator input.sk-toggleable__control:checked~label.sk-toggleable__label {background-color: #d4ebff;}#sk-container-id-2 div.sk-label input.sk-toggleable__control:checked~label.sk-toggleable__label {background-color: #d4ebff;}#sk-container-id-2 input.sk-hidden--visually {border: 0;clip: rect(1px 1px 1px 1px);clip: rect(1px, 1px, 1px, 1px);height: 1px;margin: -1px;overflow: hidden;padding: 0;position: absolute;width: 1px;}#sk-container-id-2 div.sk-estimator {font-family: monospace;background-color: #f0f8ff;border: 1px dotted black;border-radius: 0.25em;box-sizing: border-box;margin-bottom: 0.5em;}#sk-container-id-2 div.sk-estimator:hover {background-color: #d4ebff;}#sk-container-id-2 div.sk-parallel-item::after {content: \"\";width: 100%;border-bottom: 1px solid gray;flex-grow: 1;}#sk-container-id-2 div.sk-label:hover label.sk-toggleable__label {background-color: #d4ebff;}#sk-container-id-2 div.sk-serial::before {content: \"\";position: absolute;border-left: 1px solid gray;box-sizing: border-box;top: 0;bottom: 0;left: 50%;z-index: 0;}#sk-container-id-2 div.sk-serial {display: flex;flex-direction: column;align-items: center;background-color: white;padding-right: 0.2em;padding-left: 0.2em;position: relative;}#sk-container-id-2 div.sk-item {position: relative;z-index: 1;}#sk-container-id-2 div.sk-parallel {display: flex;align-items: stretch;justify-content: center;background-color: white;position: relative;}#sk-container-id-2 div.sk-item::before, #sk-container-id-2 div.sk-parallel-item::before {content: \"\";position: absolute;border-left: 1px solid gray;box-sizing: border-box;top: 0;bottom: 0;left: 50%;z-index: -1;}#sk-container-id-2 div.sk-parallel-item {display: flex;flex-direction: column;z-index: 1;position: relative;background-color: white;}#sk-container-id-2 div.sk-parallel-item:first-child::after {align-self: flex-end;width: 50%;}#sk-container-id-2 div.sk-parallel-item:last-child::after {align-self: flex-start;width: 50%;}#sk-container-id-2 div.sk-parallel-item:only-child::after {width: 0;}#sk-container-id-2 div.sk-dashed-wrapped {border: 1px dashed gray;margin: 0 0.4em 0.5em 0.4em;box-sizing: border-box;padding-bottom: 0.4em;background-color: white;}#sk-container-id-2 div.sk-label label {font-family: monospace;font-weight: bold;display: inline-block;line-height: 1.2em;}#sk-container-id-2 div.sk-label-container {text-align: center;}#sk-container-id-2 div.sk-container {/* jupyter's `normalize.less` sets `[hidden] { display: none; }` but bootstrap.min.css set `[hidden] { display: none !important; }` so we also need the `!important` here to be able to override the default hidden behavior on the sphinx rendered scikit-learn.org. See: https://github.com/scikit-learn/scikit-learn/issues/21755 */display: inline-block !important;position: relative;}#sk-container-id-2 div.sk-text-repr-fallback {display: none;}</style><div id=\"sk-container-id-2\" class=\"sk-top-container\"><div class=\"sk-text-repr-fallback\"><pre>GridSearchCV(cv=5, estimator=RandomForestRegressor(),\n",
       "             param_grid={&#x27;criterion&#x27;: [&#x27;squared_error&#x27;],\n",
       "                         &#x27;max_depth&#x27;: [4, 5, 6, 7, 8],\n",
       "                         &#x27;max_features&#x27;: [&#x27;auto&#x27;, &#x27;sqrt&#x27;, &#x27;log2&#x27;],\n",
       "                         &#x27;n_estimators&#x27;: [100, 500]})</pre><b>In a Jupyter environment, please rerun this cell to show the HTML representation or trust the notebook. <br />On GitHub, the HTML representation is unable to render, please try loading this page with nbviewer.org.</b></div><div class=\"sk-container\" hidden><div class=\"sk-item sk-dashed-wrapped\"><div class=\"sk-label-container\"><div class=\"sk-label sk-toggleable\"><input class=\"sk-toggleable__control sk-hidden--visually\" id=\"sk-estimator-id-2\" type=\"checkbox\" ><label for=\"sk-estimator-id-2\" class=\"sk-toggleable__label sk-toggleable__label-arrow\">GridSearchCV</label><div class=\"sk-toggleable__content\"><pre>GridSearchCV(cv=5, estimator=RandomForestRegressor(),\n",
       "             param_grid={&#x27;criterion&#x27;: [&#x27;squared_error&#x27;],\n",
       "                         &#x27;max_depth&#x27;: [4, 5, 6, 7, 8],\n",
       "                         &#x27;max_features&#x27;: [&#x27;auto&#x27;, &#x27;sqrt&#x27;, &#x27;log2&#x27;],\n",
       "                         &#x27;n_estimators&#x27;: [100, 500]})</pre></div></div></div><div class=\"sk-parallel\"><div class=\"sk-parallel-item\"><div class=\"sk-item\"><div class=\"sk-label-container\"><div class=\"sk-label sk-toggleable\"><input class=\"sk-toggleable__control sk-hidden--visually\" id=\"sk-estimator-id-3\" type=\"checkbox\" ><label for=\"sk-estimator-id-3\" class=\"sk-toggleable__label sk-toggleable__label-arrow\">estimator: RandomForestRegressor</label><div class=\"sk-toggleable__content\"><pre>RandomForestRegressor()</pre></div></div></div><div class=\"sk-serial\"><div class=\"sk-item\"><div class=\"sk-estimator sk-toggleable\"><input class=\"sk-toggleable__control sk-hidden--visually\" id=\"sk-estimator-id-4\" type=\"checkbox\" ><label for=\"sk-estimator-id-4\" class=\"sk-toggleable__label sk-toggleable__label-arrow\">RandomForestRegressor</label><div class=\"sk-toggleable__content\"><pre>RandomForestRegressor()</pre></div></div></div></div></div></div></div></div></div></div>"
      ],
      "text/plain": [
       "GridSearchCV(cv=5, estimator=RandomForestRegressor(),\n",
       "             param_grid={'criterion': ['squared_error'],\n",
       "                         'max_depth': [4, 5, 6, 7, 8],\n",
       "                         'max_features': ['auto', 'sqrt', 'log2'],\n",
       "                         'n_estimators': [100, 500]})"
      ]
     },
     "execution_count": 37,
     "metadata": {},
     "output_type": "execute_result"
    }
   ],
   "source": [
    "c_ran.fit(x_train,y_train)"
   ]
  },
  {
   "cell_type": "code",
   "execution_count": 38,
   "id": "a8d4f31a",
   "metadata": {},
   "outputs": [
    {
     "data": {
      "text/plain": [
       "{'criterion': 'squared_error',\n",
       " 'max_depth': 8,\n",
       " 'max_features': 'log2',\n",
       " 'n_estimators': 100}"
      ]
     },
     "execution_count": 38,
     "metadata": {},
     "output_type": "execute_result"
    }
   ],
   "source": [
    "c_ran.best_params_"
   ]
  },
  {
   "cell_type": "code",
   "execution_count": 39,
   "id": "283cacdf",
   "metadata": {},
   "outputs": [],
   "source": [
    "model1 = RandomForestRegressor(n_estimators=500,max_features='log2',max_depth=8,criterion='squared_error')"
   ]
  },
  {
   "cell_type": "code",
   "execution_count": 40,
   "id": "38d1d9aa",
   "metadata": {},
   "outputs": [
    {
     "data": {
      "text/html": [
       "<style>#sk-container-id-3 {color: black;background-color: white;}#sk-container-id-3 pre{padding: 0;}#sk-container-id-3 div.sk-toggleable {background-color: white;}#sk-container-id-3 label.sk-toggleable__label {cursor: pointer;display: block;width: 100%;margin-bottom: 0;padding: 0.3em;box-sizing: border-box;text-align: center;}#sk-container-id-3 label.sk-toggleable__label-arrow:before {content: \"▸\";float: left;margin-right: 0.25em;color: #696969;}#sk-container-id-3 label.sk-toggleable__label-arrow:hover:before {color: black;}#sk-container-id-3 div.sk-estimator:hover label.sk-toggleable__label-arrow:before {color: black;}#sk-container-id-3 div.sk-toggleable__content {max-height: 0;max-width: 0;overflow: hidden;text-align: left;background-color: #f0f8ff;}#sk-container-id-3 div.sk-toggleable__content pre {margin: 0.2em;color: black;border-radius: 0.25em;background-color: #f0f8ff;}#sk-container-id-3 input.sk-toggleable__control:checked~div.sk-toggleable__content {max-height: 200px;max-width: 100%;overflow: auto;}#sk-container-id-3 input.sk-toggleable__control:checked~label.sk-toggleable__label-arrow:before {content: \"▾\";}#sk-container-id-3 div.sk-estimator input.sk-toggleable__control:checked~label.sk-toggleable__label {background-color: #d4ebff;}#sk-container-id-3 div.sk-label input.sk-toggleable__control:checked~label.sk-toggleable__label {background-color: #d4ebff;}#sk-container-id-3 input.sk-hidden--visually {border: 0;clip: rect(1px 1px 1px 1px);clip: rect(1px, 1px, 1px, 1px);height: 1px;margin: -1px;overflow: hidden;padding: 0;position: absolute;width: 1px;}#sk-container-id-3 div.sk-estimator {font-family: monospace;background-color: #f0f8ff;border: 1px dotted black;border-radius: 0.25em;box-sizing: border-box;margin-bottom: 0.5em;}#sk-container-id-3 div.sk-estimator:hover {background-color: #d4ebff;}#sk-container-id-3 div.sk-parallel-item::after {content: \"\";width: 100%;border-bottom: 1px solid gray;flex-grow: 1;}#sk-container-id-3 div.sk-label:hover label.sk-toggleable__label {background-color: #d4ebff;}#sk-container-id-3 div.sk-serial::before {content: \"\";position: absolute;border-left: 1px solid gray;box-sizing: border-box;top: 0;bottom: 0;left: 50%;z-index: 0;}#sk-container-id-3 div.sk-serial {display: flex;flex-direction: column;align-items: center;background-color: white;padding-right: 0.2em;padding-left: 0.2em;position: relative;}#sk-container-id-3 div.sk-item {position: relative;z-index: 1;}#sk-container-id-3 div.sk-parallel {display: flex;align-items: stretch;justify-content: center;background-color: white;position: relative;}#sk-container-id-3 div.sk-item::before, #sk-container-id-3 div.sk-parallel-item::before {content: \"\";position: absolute;border-left: 1px solid gray;box-sizing: border-box;top: 0;bottom: 0;left: 50%;z-index: -1;}#sk-container-id-3 div.sk-parallel-item {display: flex;flex-direction: column;z-index: 1;position: relative;background-color: white;}#sk-container-id-3 div.sk-parallel-item:first-child::after {align-self: flex-end;width: 50%;}#sk-container-id-3 div.sk-parallel-item:last-child::after {align-self: flex-start;width: 50%;}#sk-container-id-3 div.sk-parallel-item:only-child::after {width: 0;}#sk-container-id-3 div.sk-dashed-wrapped {border: 1px dashed gray;margin: 0 0.4em 0.5em 0.4em;box-sizing: border-box;padding-bottom: 0.4em;background-color: white;}#sk-container-id-3 div.sk-label label {font-family: monospace;font-weight: bold;display: inline-block;line-height: 1.2em;}#sk-container-id-3 div.sk-label-container {text-align: center;}#sk-container-id-3 div.sk-container {/* jupyter's `normalize.less` sets `[hidden] { display: none; }` but bootstrap.min.css set `[hidden] { display: none !important; }` so we also need the `!important` here to be able to override the default hidden behavior on the sphinx rendered scikit-learn.org. See: https://github.com/scikit-learn/scikit-learn/issues/21755 */display: inline-block !important;position: relative;}#sk-container-id-3 div.sk-text-repr-fallback {display: none;}</style><div id=\"sk-container-id-3\" class=\"sk-top-container\"><div class=\"sk-text-repr-fallback\"><pre>RandomForestRegressor(max_depth=8, max_features=&#x27;log2&#x27;, n_estimators=500)</pre><b>In a Jupyter environment, please rerun this cell to show the HTML representation or trust the notebook. <br />On GitHub, the HTML representation is unable to render, please try loading this page with nbviewer.org.</b></div><div class=\"sk-container\" hidden><div class=\"sk-item\"><div class=\"sk-estimator sk-toggleable\"><input class=\"sk-toggleable__control sk-hidden--visually\" id=\"sk-estimator-id-5\" type=\"checkbox\" checked><label for=\"sk-estimator-id-5\" class=\"sk-toggleable__label sk-toggleable__label-arrow\">RandomForestRegressor</label><div class=\"sk-toggleable__content\"><pre>RandomForestRegressor(max_depth=8, max_features=&#x27;log2&#x27;, n_estimators=500)</pre></div></div></div></div></div>"
      ],
      "text/plain": [
       "RandomForestRegressor(max_depth=8, max_features='log2', n_estimators=500)"
      ]
     },
     "execution_count": 40,
     "metadata": {},
     "output_type": "execute_result"
    }
   ],
   "source": [
    "model1.fit(x_train,y_train)"
   ]
  },
  {
   "cell_type": "code",
   "execution_count": 41,
   "id": "33772c6a",
   "metadata": {},
   "outputs": [],
   "source": [
    "pred =model1.predict(x_test)"
   ]
  },
  {
   "cell_type": "code",
   "execution_count": 42,
   "id": "f0e18c16",
   "metadata": {},
   "outputs": [
    {
     "data": {
      "text/plain": [
       "array([14.76132153, 16.98780596, 14.1314305 , 12.18576336, 10.69188987,\n",
       "       10.18735489,  9.95236344, 14.76048756,  9.46484524, 11.98658677,\n",
       "        9.47769688, 13.38980308,  8.4974179 , 13.76146938,  7.3476961 ,\n",
       "        9.97420536, 13.7640496 ,  7.97916001,  7.61551673,  9.590673  ,\n",
       "       14.12107839, 10.15526446,  7.08764028, 12.38615232,  7.89475902,\n",
       "       12.23062911,  8.52582609,  9.59163456,  9.46433191,  7.09431524,\n",
       "        9.79856854, 10.46058474, 14.02408091,  7.22569702, 14.48730221,\n",
       "       14.04468929, 10.32610145,  8.60603157, 14.76447739,  9.41525952,\n",
       "        9.28380965,  9.58004608, 18.25698725, 13.17599584, 13.69966685,\n",
       "       11.3737024 ,  8.30410167,  7.35902671, 11.65078371, 10.29640005,\n",
       "       10.29990782, 14.73988028,  8.24596273, 10.4145806 ,  9.53204964,\n",
       "        9.3862957 , 11.68496619, 16.68802221, 10.38340844, 11.30629306,\n",
       "       10.89746272,  9.58080236, 10.90321554, 11.27193001,  9.33628093,\n",
       "        7.12282427,  7.59262024,  9.59102513,  5.90563896,  4.45125652,\n",
       "        9.27324892, 11.66034149,  9.92781485,  6.13746658,  7.37553189,\n",
       "       13.58192511, 16.98780596, 10.09676134,  8.11213929, 13.78230121,\n",
       "       13.7587205 , 12.96833618,  8.44436205, 13.1308154 ,  9.46747262,\n",
       "        8.3204477 , 10.17474124, 11.19805451, 15.68355043,  7.08867955,\n",
       "        9.65048188, 14.71734246,  6.39075518, 14.93335228, 14.14975592,\n",
       "       13.79534834, 10.66214269,  7.46203602, 13.3099768 ,  9.87532023,\n",
       "       10.57603352, 16.31655406,  8.12062497, 12.20101166, 10.20867667,\n",
       "       13.31990278,  7.60419795, 11.23984997,  8.59867378, 10.4870385 ,\n",
       "        9.20115117, 12.41150395, 11.64446725, 14.69542872, 12.14113404,\n",
       "       10.3185368 ,  8.6551907 , 11.40380315, 10.05910224,  9.53894773,\n",
       "       11.78699251,  8.75631296,  8.24660152,  8.36410209, 10.10500419,\n",
       "       12.11125598,  5.24514441, 10.1876526 , 13.19346163,  9.8356871 ,\n",
       "        8.15258386,  9.76043322,  8.74345135, 14.07491535, 11.27679054,\n",
       "       18.353341  ,  9.39438163, 14.19806036, 12.48714215, 14.91281931,\n",
       "       10.84526441, 15.69926812, 11.73197644,  5.27006784,  8.27821369,\n",
       "       14.63620637, 10.41605471,  6.87752251, 13.79437915, 13.18387108,\n",
       "        8.2343188 ,  7.10626944,  9.21595218, 13.15762701, 13.25323132,\n",
       "        9.89474574, 11.50449475, 12.33840224, 11.01170737, 15.3621596 ,\n",
       "        8.26280345, 10.51532529, 10.7353223 ,  9.87341419, 12.16565202,\n",
       "       13.53034837, 11.15925197,  9.33089958, 12.90916191, 11.68625286,\n",
       "       11.71251667,  7.22997213, 14.76088725,  7.9693399 , 10.47658025,\n",
       "        6.12654942, 15.6982743 , 12.23367533, 11.50633289,  7.84758019,\n",
       "        6.90457354, 14.1337305 ,  7.53553457,  7.93408317, 12.14193137,\n",
       "       15.68193698, 10.06287873, 11.88376395,  8.59909354,  9.45853222,\n",
       "       14.63625637, 16.74377013,  7.44371076,  9.12968382, 16.0983292 ,\n",
       "       11.30154753,  8.20556899, 11.41271966, 12.42110395, 11.86125478,\n",
       "       11.67746304, 14.08128905,  8.06642868, 12.96833618, 14.56710748,\n",
       "        9.58118765, 14.13905881, 12.36010994, 11.26601238, 11.71791501,\n",
       "        6.84315806, 10.76619963, 16.74377013,  7.87653065, 11.25553445,\n",
       "        8.2295165 , 10.64748992,  9.25831474, 16.68802221,  9.51854393,\n",
       "       11.43283066,  8.53369187,  8.10310589, 11.68406169, 13.72197771,\n",
       "        9.75566719,  7.56249875, 11.7793862 , 15.7073053 , 10.6171757 ,\n",
       "       11.90752341, 11.99916373, 12.15337249,  7.58561944, 14.35185963,\n",
       "       13.95012408, 11.8194427 , 14.62729108, 11.70486217,  7.95073608,\n",
       "       12.43281456, 11.20581188,  9.83311273, 14.76575807,  9.28484465,\n",
       "       14.62306293,  7.55489432, 14.84621896, 11.998083  , 11.64711156,\n",
       "        9.35228381, 12.43504742, 16.17377865,  9.24711062,  7.61431673,\n",
       "       11.76423305,  9.78634122,  8.1117585 , 11.68513154, 11.87886524,\n",
       "        9.66722328, 10.40995524,  8.6551907 , 16.01766899,  7.82580515,\n",
       "       12.2081933 ,  8.75631296, 10.75289845, 10.71498679, 11.1896294 ,\n",
       "        7.9173998 ,  8.12781647, 11.41231966, 11.70934041,  9.49401147,\n",
       "        9.51258465,  8.35152494,  8.65360847,  9.8645631 , 10.68073431,\n",
       "       13.94488642, 13.41509033, 12.22763148, 24.52239   ])"
      ]
     },
     "execution_count": 42,
     "metadata": {},
     "output_type": "execute_result"
    }
   ],
   "source": [
    "pred"
   ]
  },
  {
   "cell_type": "code",
   "execution_count": 43,
   "id": "12f73c34",
   "metadata": {},
   "outputs": [
    {
     "data": {
      "text/plain": [
       "0.9947168492186447"
      ]
     },
     "execution_count": 43,
     "metadata": {},
     "output_type": "execute_result"
    }
   ],
   "source": [
    "model1.score(x_train,y_train)"
   ]
  },
  {
   "cell_type": "code",
   "execution_count": 44,
   "id": "f7d7a973",
   "metadata": {},
   "outputs": [
    {
     "data": {
      "text/plain": [
       "0.9916616065595807"
      ]
     },
     "execution_count": 44,
     "metadata": {},
     "output_type": "execute_result"
    }
   ],
   "source": [
    "model1.score(x_test,y_test)"
   ]
  },
  {
   "cell_type": "code",
   "execution_count": 45,
   "id": "a09a11cc",
   "metadata": {},
   "outputs": [],
   "source": [
    "from sklearn.metrics import mean_squared_error"
   ]
  },
  {
   "cell_type": "code",
   "execution_count": 46,
   "id": "91938b03",
   "metadata": {},
   "outputs": [
    {
     "data": {
      "text/plain": [
       "0.06850134429451277"
      ]
     },
     "execution_count": 46,
     "metadata": {},
     "output_type": "execute_result"
    }
   ],
   "source": [
    "mean_squared_error(pred,y_test)"
   ]
  },
  {
   "cell_type": "code",
   "execution_count": 47,
   "id": "f69f5bad",
   "metadata": {},
   "outputs": [],
   "source": [
    "import math"
   ]
  },
  {
   "cell_type": "code",
   "execution_count": 48,
   "id": "8fba6990",
   "metadata": {},
   "outputs": [
    {
     "data": {
      "text/plain": [
       "0.26172761469610495"
      ]
     },
     "execution_count": 48,
     "metadata": {},
     "output_type": "execute_result"
    }
   ],
   "source": [
    "math.sqrt(mean_squared_error(pred,y_test))"
   ]
  }
 ],
 "metadata": {
  "kernelspec": {
   "display_name": "Python 3 (ipykernel)",
   "language": "python",
   "name": "python3"
  },
  "language_info": {
   "codemirror_mode": {
    "name": "ipython",
    "version": 3
   },
   "file_extension": ".py",
   "mimetype": "text/x-python",
   "name": "python",
   "nbconvert_exporter": "python",
   "pygments_lexer": "ipython3",
   "version": "3.9.12"
  }
 },
 "nbformat": 4,
 "nbformat_minor": 5
}
